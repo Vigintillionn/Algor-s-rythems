{
 "cells": [
  {
   "cell_type": "code",
   "execution_count": 12,
   "id": "ea417afb",
   "metadata": {},
   "outputs": [],
   "source": [
    "#This is a document with algorithms and data structures\n",
    "import random\n",
    "\n",
    "from numpy import sort "
   ]
  },
  {
   "cell_type": "markdown",
   "id": "9a368fdb",
   "metadata": {},
   "source": [
    "# Data structures"
   ]
  },
  {
   "cell_type": "code",
   "execution_count": 13,
   "id": "da256a98",
   "metadata": {},
   "outputs": [],
   "source": [
    "data_sorted      = [0, 1, 2, 3, 4, 5, 6, 7, 8, 9]\n",
    "data_unsorted   = [2,7, 3, 5, 1, 0, 9, 6, 4, 8]\n",
    "data_dictionary_sorted = {\"a\": 1, \"b\": 2, \"c\": 3, \"d\": 4, \"e\": 5, \"f\": 6, \"g\": 7, \"h\": 8, \"i\": 9, \"j\": 0}"
   ]
  },
  {
   "cell_type": "markdown",
   "id": "62e6ddba",
   "metadata": {},
   "source": [
    "# Searching Algorithms "
   ]
  },
  {
   "cell_type": "markdown",
   "id": "83c3479a",
   "metadata": {},
   "source": [
    "## Lineair search \n",
    "\n",
    "\n"
   ]
  },
  {
   "cell_type": "code",
   "execution_count": 14,
   "id": "1ff2a48f",
   "metadata": {},
   "outputs": [],
   "source": [
    "# Search each and every element of the array till you find the required element\n",
    "# \n",
    "# Input: List\n",
    "# Output: Index of searched item \n",
    "# Time Complexity: O (n)\n",
    "def linear_search(list, item):\n",
    "    for x in range(0, len(list)-1):\n",
    "        if list[x] == item :  return x\n",
    "    return False"
   ]
  },
  {
   "cell_type": "markdown",
   "id": "63fc7f00",
   "metadata": {},
   "source": [
    "## Binary Search\n"
   ]
  },
  {
   "cell_type": "code",
   "execution_count": 15,
   "id": "c85383b6",
   "metadata": {},
   "outputs": [],
   "source": [
    "# Searches for the element by comparing it with the middle item of the sorted array. \n",
    "# If a match occurs, index is returned,\n",
    "# else the searching area is reduced appropriately to either the upper half or lower half of the array\n",
    "# \n",
    "# Input: Sorted List\n",
    "# Output: Index of searched item \n",
    "# Time Complexity: O (log2n)\n",
    "def binary_search(list, item): \n",
    "    print(list)\n",
    "\n",
    "    if(len(list) <= 1): return 0 \n",
    "\n",
    "    index = len(list)//2\n",
    "    split = list[index]\n",
    "    list_left = list[:index]\n",
    "    list_right = list[index:]\n",
    "\n",
    "    if(split > item): return  search_binary(list_left, item) \n",
    "    elif(split < item): return  search_binary(list_right, item) + index\n",
    "    return index"
   ]
  },
  {
   "cell_type": "markdown",
   "id": "72a174a6",
   "metadata": {},
   "source": [
    "# Sorting algorithms "
   ]
  },
  {
   "cell_type": "markdown",
   "id": "06d60b44",
   "metadata": {},
   "source": [
    "## Hulp Functie "
   ]
  },
  {
   "cell_type": "code",
   "execution_count": 16,
   "id": "b25febd5",
   "metadata": {},
   "outputs": [],
   "source": [
    "def swap(list, index1, index2): \n",
    "    temp = list[index2] \n",
    "    list[index2] = list[index1]\n",
    "    list[index1] = temp "
   ]
  },
  {
   "cell_type": "markdown",
   "id": "05ad5359",
   "metadata": {},
   "source": [
    "## Bubble sort "
   ]
  },
  {
   "cell_type": "code",
   "execution_count": 17,
   "id": "2f324e1f",
   "metadata": {},
   "outputs": [],
   "source": [
    "# Works by swapping adjacent elements in repeated passes, \n",
    "# if they are not in correct order.High time complexity and not suitable for large datasets\n",
    "# Time Complexity: O (n2)\n",
    "def bubble_sort(unsorted_list): \n",
    "    #returns sorted List \n",
    "    n = len(unsorted_list) - 1\n",
    "    while (n > 0 ): \n",
    "        for i in range(1, len(unsorted_list) - 1): \n",
    "            if(unsorted_list[i + 1] < unsorted_list[i]): \n",
    "                swap(unsorted_list, i, i + 1)\n",
    "            elif(unsorted_list[i - 1] > unsorted_list[i]): \n",
    "                swap(unsorted_list, i, i -1)\n",
    "        n = n - 1 \n",
    "    return unsorted_list"
   ]
  },
  {
   "cell_type": "markdown",
   "id": "885d6745",
   "metadata": {},
   "source": [
    "## Insertion Sort"
   ]
  },
  {
   "cell_type": "code",
   "execution_count": null,
   "id": "4c482e7f",
   "metadata": {},
   "outputs": [],
   "source": []
  },
  {
   "cell_type": "code",
   "execution_count": null,
   "id": "294a9e1d",
   "metadata": {},
   "outputs": [],
   "source": []
  }
 ],
 "metadata": {
  "kernelspec": {
   "display_name": "Python 3 (ipykernel)",
   "language": "python",
   "name": "python3"
  },
  "language_info": {
   "codemirror_mode": {
    "name": "ipython",
    "version": 3
   },
   "file_extension": ".py",
   "mimetype": "text/x-python",
   "name": "python",
   "nbconvert_exporter": "python",
   "pygments_lexer": "ipython3",
   "version": "3.10.9"
  }
 },
 "nbformat": 4,
 "nbformat_minor": 5
}
